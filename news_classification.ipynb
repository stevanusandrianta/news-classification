{
 "cells": [
  {
   "cell_type": "code",
   "execution_count": null,
   "metadata": {
    "collapsed": false
   },
   "outputs": [],
   "source": [
    "import re\n",
    "import glob\n",
    "import numpy as np\n",
    "import pandas\n",
    "import pickle\n",
    "\n",
    "from sklearn.datasets import fetch_20newsgroups\n",
    "from sklearn.feature_extraction.text import CountVectorizer\n",
    "from sklearn.feature_extraction.text import TfidfTransformer\n",
    "\n",
    "category_list = [\"sport\", \"travel\"]\n",
    "directory_list = [\"sport/*.txt\", \"travel/*.txt\"]\n",
    "\n",
    "text_files = list(map(lambda x: glob.glob(x), directory_list))\n",
    "text_files = [item for sublist in text_files for item in sublist]\n",
    "\n",
    "training_data = []\n",
    "\n",
    "for t in text_files:\n",
    "    f = open(t, 'r')\n",
    "    f = f.read()\n",
    "    f = re.sub(r\"[\\n]+\", r\" \", f)\n",
    "    \n",
    "    if t.find(\"sport\") != -1:\n",
    "        training_data.append({'data' : f, 'flag' : 0})\n",
    "    elif t.find(\"travel\") != -1:\n",
    "        training_data.append({'data' : f, 'flag' : 1})\n",
    "    \n",
    "training_data = pandas.DataFrame(training_data, columns=['data', 'flag'])\n",
    "\n",
    "print(training_data.data.shape)\n",
    "\n",
    "#GET VECTOR COUNT\n",
    "count_vect = CountVectorizer()\n",
    "X_train_counts = count_vect.fit_transform(training_data.data)\n",
    "\n",
    "#SAVE WORD VECTOR\n",
    "pickle.dump(count_vect.vocabulary_, open(\"count_vector.pkl\",\"wb\"))\n",
    "\n",
    "#TRANSFORM WORD VECTOR TO TF IDF\n",
    "tfidf_transformer = TfidfTransformer()\n",
    "X_train_tfidf = tfidf_transformer.fit_transform(X_train_counts)\n",
    "\n",
    "#SAVE TF-IDF\n",
    "pickle.dump(tfidf_transformer, open(\"tfidf.pkl\",\"wb\"))\n",
    "\n",
    "from sklearn.naive_bayes import MultinomialNB\n",
    "clf = MultinomialNB().fit(X_train_tfidf, training_data.flag)\n",
    "\n",
    "#SAVE MODEL\n",
    "pickle.dump(clf, open(\"model.pkl\", \"wb\"))"
   ]
  },
  {
   "cell_type": "code",
   "execution_count": 7,
   "metadata": {
    "collapsed": false
   },
   "outputs": [
    {
     "name": "stdout",
     "output_type": "stream",
     "text": [
      "ronaldo maen lawan messi\n",
      "sport\n"
     ]
    },
    {
     "name": "stderr",
     "output_type": "stream",
     "text": [
      "/Library/Frameworks/Python.framework/Versions/3.5/lib/python3.5/site-packages/ipykernel/__main__.py:23: VisibleDeprecationWarning: converting an array with ndim > 0 to an index will result in an error in the future\n"
     ]
    }
   ],
   "source": [
    "import pickle\n",
    "from sklearn.feature_extraction.text import CountVectorizer\n",
    "from sklearn.feature_extraction.text import TfidfTransformer\n",
    "\n",
    "category_list = [\"sport\", \"travel\"]\n",
    "\n",
    "docs_new = input()\n",
    "docs_new = [docs_new]\n",
    "\n",
    "#X_new_counts = count_vect.transform(docs_new)\n",
    "#X_new_tfidf = tfidf_transformer.transform(X_new_counts)\n",
    "#predicted = clf.predict(X_new_tfidf)\n",
    "\n",
    "#LOAD MODEL\n",
    "loaded_vec = CountVectorizer(vocabulary=pickle.load(open(\"count_vector.pkl\", \"rb\")))\n",
    "loaded_tfidf = pickle.load(open(\"tfidf.pkl\",\"rb\"))\n",
    "loaded_model = pickle.load(open(\"model.pkl\",\"rb\"))\n",
    "\n",
    "X_new_counts = loaded_vec.transform(docs_new)\n",
    "X_new_tfidf = loaded_tfidf.transform(X_new_counts)\n",
    "predicted = loaded_model.predict(X_new_tfidf)\n",
    "\n",
    "print(category_list[predicted])"
   ]
  }
 ],
 "metadata": {
  "kernelspec": {
   "display_name": "Python 3",
   "language": "python",
   "name": "python3"
  },
  "language_info": {
   "codemirror_mode": {
    "name": "ipython",
    "version": 3
   },
   "file_extension": ".py",
   "mimetype": "text/x-python",
   "name": "python",
   "nbconvert_exporter": "python",
   "pygments_lexer": "ipython3",
   "version": "3.5.2"
  }
 },
 "nbformat": 4,
 "nbformat_minor": 1
}
