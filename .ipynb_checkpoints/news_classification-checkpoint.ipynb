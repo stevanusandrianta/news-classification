{
 "cells": [
  {
   "cell_type": "code",
   "execution_count": 2,
   "metadata": {
    "collapsed": false
   },
   "outputs": [],
   "source": [
    "import re\n",
    "import glob\n",
    "import numpy as np\n",
    "import pandas\n",
    "\n",
    "from sklearn.datasets import fetch_20newsgroups\n",
    "from sklearn.feature_extraction.text import CountVectorizer\n",
    "from sklearn.feature_extraction.text import TfidfTransformer\n",
    "\n",
    "category_list = [\"sport\", \"travel\"]\n",
    "directory_list = [\"sport/*.txt\", \"travel/*.txt\"]\n",
    "\n",
    "text_files = list(map(lambda x: glob.glob(x), directory_list))\n",
    "text_files = [item for sublist in text_files for item in sublist]\n",
    "\n",
    "training_data = []\n",
    "\n",
    "for t in text_files:\n",
    "    f = open(t, 'r')\n",
    "    f = f.read()\n",
    "    f = re.sub(r\"[\\n]+\", r\" \", f)\n",
    "    \n",
    "    if t.find(\"sport\") != -1:\n",
    "        training_data.append({'data' : f, 'flag' : 0})\n",
    "    elif t.find(\"travel\") != -1:\n",
    "        training_data.append({'data' : f, 'flag' : 1})\n",
    "    \n",
    "training_data = pandas.DataFrame(training_data, columns=['data', 'flag'])\n",
    "\n",
    "#GET VECTOR COUNT\n",
    "count_vect = CountVectorizer()\n",
    "X_train_counts = count_vect.fit_transform(training_data.data)\n",
    "\n",
    "#TRANSFORM WORD VECTOR TO TF IDF\n",
    "tfidf_transformer = TfidfTransformer()\n",
    "X_train_tfidf = tfidf_transformer.fit_transform(X_train_counts)\n",
    "\n",
    "from sklearn.naive_bayes import MultinomialNB\n",
    "clf = MultinomialNB().fit(X_train_tfidf, training_data.flag)"
   ]
  },
  {
   "cell_type": "code",
   "execution_count": 7,
   "metadata": {
    "collapsed": false
   },
   "outputs": [
    {
     "name": "stdout",
     "output_type": "stream",
     "text": [
      "MANCHESTER, KOMPAS.com - Manchester City akan menjamu Barcelona pada pertandingan lanjutan penyisihan Grup C Liga Champions di Stadion Etihad, Selasa (1/11/2016).  Selama di Manchester, El Barca akan menginap di The Lowry Hotel. Lionel Messi dan kawan-kawan pun bukan tidak mungkin secara tak terduga bertemu Jose Mourinho.  Hotel mewah tersebut merupakan rumah sementara untuk manajer Manchester United. Semenjak menangani Setan Merah, Mourinho meninggalkan istrinya, Matilde, dan dua anaknya yang tinggal di London.  Mourinho dalam wawancaranya dengan sejumlah media mengaku belum berpikir untuk membeli rumah di Manchester.  \"Beli sebuah rumah? Saya tidak tahu. Kenyataannya putriku akan berusia 20 tahun pada pekan depan dan putraku bakal berusia 17 tahun beberapa pekan lagi. Mereka sudah sangat betah. Kuliah di London dan bermain sepak bola di sana,\" kata Mourinho.  The Lowry Hotel memang cukup dekat dengan tempat Mourinho bekerja. Hotel ini berjarak 2,5 mil dari Old Trafford dan 7,6 mil dari tempat latihan Setan Merah, Carrington.  Soal harga per malamnya untuk kamar standar dipatok seharga 209 poundsterling (sekitar Rp 3,3 juta). Sementara kamar paling mahal mencapai 963 poundsterling (sekitar Rp 15,3 juta).\n",
      "travel\n"
     ]
    },
    {
     "name": "stderr",
     "output_type": "stream",
     "text": [
      "/Library/Frameworks/Python.framework/Versions/3.5/lib/python3.5/site-packages/ipykernel/__main__.py:7: VisibleDeprecationWarning: converting an array with ndim > 0 to an index will result in an error in the future\n"
     ]
    }
   ],
   "source": [
    "docs_new = input()\n",
    "docs_new = [docs_new]\n",
    "X_new_counts = count_vect.transform(docs_new)\n",
    "X_new_tfidf = tfidf_transformer.transform(X_new_counts)\n",
    "\n",
    "predicted = clf.predict(X_new_tfidf)\n",
    "print(category_list[predicted])"
   ]
  }
 ],
 "metadata": {
  "kernelspec": {
   "display_name": "Python 3",
   "language": "python",
   "name": "python3"
  },
  "language_info": {
   "codemirror_mode": {
    "name": "ipython",
    "version": 3
   },
   "file_extension": ".py",
   "mimetype": "text/x-python",
   "name": "python",
   "nbconvert_exporter": "python",
   "pygments_lexer": "ipython3",
   "version": "3.5.2"
  }
 },
 "nbformat": 4,
 "nbformat_minor": 1
}
